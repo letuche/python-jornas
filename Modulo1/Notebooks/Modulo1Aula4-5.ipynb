{
 "cells": [
  {
   "cell_type": "code",
   "execution_count": 3,
   "metadata": {},
   "outputs": [
    {
     "name": "stdout",
     "output_type": "stream",
     "text": [
      "Digite um numero: 42\n",
      "Digite outro numero: 10\n",
      "52\n"
     ]
    }
   ],
   "source": [
    "valor1 = input('Digite um numero: ')\n",
    "valor2 = input('Digite outro numero: ')\n",
    "print(int(valor1) + int(valor2))"
   ]
  },
  {
   "cell_type": "code",
   "execution_count": 2,
   "metadata": {},
   "outputs": [
    {
     "name": "stdout",
     "output_type": "stream",
     "text": [
      "52\n"
     ]
    }
   ],
   "source": [
    "print(int('42') + 10)"
   ]
  },
  {
   "cell_type": "code",
   "execution_count": 4,
   "metadata": {},
   "outputs": [
    {
     "name": "stdout",
     "output_type": "stream",
     "text": [
      "Digite um numero: 2\n",
      "Digite outro numero: 4\n",
      "6\n"
     ]
    }
   ],
   "source": [
    "valor1 = int(input('Digite um numero: '))\n",
    "valor2 = int(input('Digite outro numero: '))\n",
    "print(valor1 + valor2)"
   ]
  },
  {
   "cell_type": "code",
   "execution_count": 17,
   "metadata": {},
   "outputs": [
    {
     "name": "stdout",
     "output_type": "stream",
     "text": [
      "Digite um valor positivo: 2\n",
      "Digite outro valor positivo: 3\n",
      "A média é: 2.5\n"
     ]
    }
   ],
   "source": [
    "valor1 = float(input('Digite um valor positivo: '))\n",
    "valor2 = float(input('Digite outro valor positivo: '))\n",
    "if valor1 < 0 or valor2 < 0:\n",
    "    print('Valores inválidos. Por favor, digite apenas valores positivos.')\n",
    "else:\n",
    "    media = (valor1 + valor2) / 2\n",
    "    print('A média é: ' + str(media))"
   ]
  }
 ],
 "metadata": {
  "kernelspec": {
   "display_name": "Python 3",
   "language": "python",
   "name": "python3"
  },
  "language_info": {
   "codemirror_mode": {
    "name": "ipython",
    "version": 3
   },
   "file_extension": ".py",
   "mimetype": "text/x-python",
   "name": "python",
   "nbconvert_exporter": "python",
   "pygments_lexer": "ipython3",
   "version": "3.6.3"
  }
 },
 "nbformat": 4,
 "nbformat_minor": 2
}
