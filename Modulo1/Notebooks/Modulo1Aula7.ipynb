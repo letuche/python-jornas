{
 "cells": [
  {
   "cell_type": "markdown",
   "metadata": {},
   "source": [
    "# Manipulando strings: fazendo substituições\n",
    "\n",
    "## Quais seriam os passos do algoritmo para fazer um plugin como o do exemplo que transforma valores em reais em salários do Neymar:\n",
    "- extrair o texto das páginas\n",
    "- procurar valores numéricos\n",
    "- substituir por outra coisa\n",
    "- calcular novo valor\n",
    "- inserir novo valor no texto"
   ]
  },
  {
   "cell_type": "markdown",
   "metadata": {},
   "source": [
    "## O exemplo a seguir utiliza uma matéria sobre a reeleição de Bill de Blasio como prefeito de Nova York.\n",
    "### Primeiro passo: verificar se o nome de Blasio está no título da matéria informada."
   ]
  },
  {
   "cell_type": "code",
   "execution_count": 5,
   "metadata": {},
   "outputs": [
    {
     "data": {
      "text/plain": [
       "True"
      ]
     },
     "execution_count": 5,
     "metadata": {},
     "output_type": "execute_result"
    }
   ],
   "source": [
    "titulo = 'Em noite de vitórias democratas, Bill de Blasio é reeleito em Nova York'\n",
    "url='http://www1.folha.uol.com.br/mundo/2017/11/1933720-em-noite-de-vitorias-democratas-bill-de-blasio-e-reeleito-em-nova-york.shtml'\n",
    "\n",
    "'Bill de Blasio' in titulo"
   ]
  },
  {
   "cell_type": "markdown",
   "metadata": {},
   "source": [
    "### Verificando o tipo de um dado (neste caso, uma string):"
   ]
  },
  {
   "cell_type": "code",
   "execution_count": 7,
   "metadata": {
    "scrolled": true
   },
   "outputs": [
    {
     "data": {
      "text/plain": [
       "str"
      ]
     },
     "execution_count": 7,
     "metadata": {},
     "output_type": "execute_result"
    }
   ],
   "source": [
    "type(titulo)"
   ]
  },
  {
   "cell_type": "markdown",
   "metadata": {},
   "source": [
    "### Funções para manipular strings:"
   ]
  },
  {
   "cell_type": "code",
   "execution_count": 8,
   "metadata": {},
   "outputs": [
    {
     "data": {
      "text/plain": [
       "'em noite de vitórias democratas, bill de blasio é reeleito em nova york'"
      ]
     },
     "execution_count": 8,
     "metadata": {},
     "output_type": "execute_result"
    }
   ],
   "source": [
    "titulo.lower()"
   ]
  },
  {
   "cell_type": "code",
   "execution_count": 10,
   "metadata": {},
   "outputs": [
    {
     "data": {
      "text/plain": [
       "'EM NOITE DE VITÓRIAS DEMOCRATAS, BILL DE BLASIO É REELEITO EM NOVA YORK'"
      ]
     },
     "execution_count": 10,
     "metadata": {},
     "output_type": "execute_result"
    }
   ],
   "source": [
    "titulo.upper()"
   ]
  },
  {
   "cell_type": "code",
   "execution_count": 9,
   "metadata": {},
   "outputs": [
    {
     "data": {
      "text/plain": [
       "'Em noite de vitórias democratas, bill de blasio é reeleito em nova york'"
      ]
     },
     "execution_count": 9,
     "metadata": {},
     "output_type": "execute_result"
    }
   ],
   "source": [
    "titulo.capitalize()"
   ]
  },
  {
   "cell_type": "code",
   "execution_count": 18,
   "metadata": {},
   "outputs": [
    {
     "data": {
      "text/plain": [
       "'Em Noite De Vitórias Democratas, Bill De Blasio É Reeleito Em Nova York'"
      ]
     },
     "execution_count": 18,
     "metadata": {},
     "output_type": "execute_result"
    }
   ],
   "source": [
    "titulo.title()"
   ]
  },
  {
   "cell_type": "markdown",
   "metadata": {},
   "source": [
    "## A seguir um script para substituir o nome do prefeito no título acima pelo de outra pessoa - escolhi a Amy Poehler porque sim:"
   ]
  },
  {
   "cell_type": "code",
   "execution_count": 13,
   "metadata": {},
   "outputs": [
    {
     "data": {
      "text/plain": [
       "'Em noite de vitórias democratas, Amy Poehler é reeleito em Nova York'"
      ]
     },
     "execution_count": 13,
     "metadata": {},
     "output_type": "execute_result"
    }
   ],
   "source": [
    "prefeito = 'Bill de Blasio'\n",
    "prefeita = 'Amy Poehler'\n",
    "\n",
    "titulo.replace(prefeito, prefeita)"
   ]
  },
  {
   "cell_type": "markdown",
   "metadata": {},
   "source": [
    "### No exemplo acima eu não me contentei em trocar apenas o nome do prefeito - eu quis uma prefeita. Só que assim Amy Poehler seria \"reeleito\", então precisava fazer mais uma alteração no título.\n",
    "### Primeiro tentei fazer um segundo *titulo.replace* mas a saída obedecia apenas ao último *replace* - então percebi que na verdade eu não estava manipulando o dado do título da matéria, estava apenas exibindo o dado com uma alteração.\n",
    "### Para trocar mais de uma palavra, precisei criar uma variável para o novo título e, aí sim, fazer as duas trocas sequencialmente.\n",
    "### Ficou assim:"
   ]
  },
  {
   "cell_type": "code",
   "execution_count": 11,
   "metadata": {},
   "outputs": [
    {
     "name": "stdout",
     "output_type": "stream",
     "text": [
      "Em noite de vitórias democratas, Amy Poehler é reeleita em Nova York\n"
     ]
    }
   ],
   "source": [
    "prefeito = 'Bill de Blasio'\n",
    "prefeita = 'Amy Poehler'\n",
    "\n",
    "novo_titulo = titulo.replace(prefeito, prefeita)\n",
    "novo_titulo = novo_titulo.replace('reeleito', 'reeleita')\n",
    "\n",
    "print(novo_titulo)"
   ]
  },
  {
   "cell_type": "markdown",
   "metadata": {},
   "source": [
    "### Exemplo da aula - substitui 'presidente' por 'presidente Thomas J. Whitmore. Utiliza função *lower* para não escaparem manchetes que grafem a palavra 'presidente' com caixa alta 'Presidente', já que strings são case-sensitive:"
   ]
  },
  {
   "cell_type": "code",
   "execution_count": 17,
   "metadata": {},
   "outputs": [
    {
     "name": "stdout",
     "output_type": "stream",
     "text": [
      "Copie e cole uma manchete que mencione 'presidente' aqui: Presidente faz alguma coisa\n",
      "presidente Thomas J. Whitmore faz alguma coisa\n"
     ]
    }
   ],
   "source": [
    "manchete = input(\"Copie e cole uma manchete que mencione 'presidente' aqui: \")\n",
    "manchete_modificada = manchete.lower()\n",
    "novo_presidente = 'presidente Thomas J. Whitmore'\n",
    "print(manchete_modificada.replace('presidente', novo_presidente))"
   ]
  },
  {
   "cell_type": "markdown",
   "metadata": {},
   "source": [
    "### Como exercício, escrevi o programa a seguir, que pede o título de uma matéria e substitui 'presidente' por 'golpista'. Usei *title* em vez de *lower* para um resultado mais próximo da grafia de uma manchete:"
   ]
  },
  {
   "cell_type": "code",
   "execution_count": 16,
   "metadata": {},
   "outputs": [
    {
     "name": "stdout",
     "output_type": "stream",
     "text": [
      "Cole o texto de uma manchete que mencione 'presidente' aqui: Primeira-ministra da Noruega pressiona presidente Michel Temer sobre combate à corrupção\n",
      "\n",
      "Primeira-Ministra Da Noruega Pressiona Golpista Michel Temer Sobre Combate À Corrupção\n"
     ]
    }
   ],
   "source": [
    "manchete = input(\"Cole o texto de uma manchete que mencione 'presidente' aqui: \")\n",
    "nova_manchete = manchete.title()\n",
    "temer = 'Golpista'\n",
    "print('\\n' + nova_manchete.replace('Presidente', temer))"
   ]
  }
 ],
 "metadata": {
  "kernelspec": {
   "display_name": "Python 3",
   "language": "python",
   "name": "python3"
  },
  "language_info": {
   "codemirror_mode": {
    "name": "ipython",
    "version": 3
   },
   "file_extension": ".py",
   "mimetype": "text/x-python",
   "name": "python",
   "nbconvert_exporter": "python",
   "pygments_lexer": "ipython3",
   "version": "3.6.3"
  }
 },
 "nbformat": 4,
 "nbformat_minor": 2
}
