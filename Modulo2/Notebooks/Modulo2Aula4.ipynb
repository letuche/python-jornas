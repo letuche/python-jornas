{
 "cells": [
  {
   "cell_type": "markdown",
   "metadata": {},
   "source": [
    "# Módulo 2: Aula 4\n",
    "## Novo tipo de dados: *Counter* e geração de arquivos CSV"
   ]
  },
  {
   "cell_type": "markdown",
   "metadata": {},
   "source": [
    "### Retomando o programa anterior de contagem de total de habitantes:"
   ]
  },
  {
   "cell_type": "code",
   "execution_count": 2,
   "metadata": {},
   "outputs": [
    {
     "name": "stdout",
     "output_type": "stream",
     "text": [
      "Total de habitantes no Brasil = 190755799\n"
     ]
    }
   ],
   "source": [
    "import csv\n",
    "\n",
    "populacao = 0\n",
    "arquivo = open('brasil.csv', encoding='utf8')\n",
    "for registro in csv.DictReader(arquivo):\n",
    "    populacao += int(registro['habitantes'])\n",
    "print(f'Total de habitantes no Brasil = {populacao}')\n"
   ]
  },
  {
   "cell_type": "markdown",
   "metadata": {},
   "source": [
    "## Problema:\n",
    "- E se quiséssemos contar para cada estado?\n",
    "    - Usaríamos 27 variáveis-contador?\n",
    "    - Dicionários!\n",
    "        - Chave = estado\n",
    "        - Valor = contador"
   ]
  },
  {
   "cell_type": "markdown",
   "metadata": {},
   "source": [
    "### A biblioteca *collections* torna mais fácil criar contadores\n",
    "Dentro de collections há um tipo novo de dados chamado *Counter*, que é como se fosse um dicionário \"melhorado\".\n",
    "O Counter também é composto por pares (chave, valor), a diferença é que se pode incrementar diretamente as chaves.\n",
    "<br>Exemplo:"
   ]
  },
  {
   "cell_type": "code",
   "execution_count": 1,
   "metadata": {},
   "outputs": [
    {
     "name": "stdout",
     "output_type": "stream",
     "text": [
      "Counter({'RJ': 10000, 'PR': 1500})\n"
     ]
    }
   ],
   "source": [
    "import collections\n",
    "\n",
    "contador = collections.Counter()\n",
    "contador['PR'] += 1000 # isso incrementa a quantidade de habitantes do Paraná em 1000\n",
    "contador['RJ'] += 10000 # incrementa habitantes do RJ em 10000\n",
    "contador['PR'] += 500 # é possível incrementar várias vezes a mesma chave\n",
    "print(contador) # imprime o somatório da variável contador"
   ]
  },
  {
   "cell_type": "markdown",
   "metadata": {},
   "source": [
    "### Podemos alterar o programa inicial para usar o collections.Counter de forma que a chave do contador será justamente o estado do registro:"
   ]
  },
  {
   "cell_type": "code",
   "execution_count": 3,
   "metadata": {},
   "outputs": [
    {
     "name": "stdout",
     "output_type": "stream",
     "text": [
      "Counter({'SP': 41262199, 'MG': 19597330, 'RJ': 15989929, 'BA': 14016906, 'RS': 10693929, 'PR': 10444526, 'PE': 8796448, 'CE': 8452381, 'PA': 7581051, 'MA': 6574789, 'SC': 6248436, 'GO': 6003788, 'PB': 3766528, 'ES': 3514952, 'AM': 3483985, 'RN': 3168027, 'AL': 3120494, 'PI': 3118360, 'MT': 3035122, 'DF': 2570160, 'MS': 2449024, 'SE': 2068017, 'RO': 1562409, 'TO': 1383445, 'AC': 733559, 'AP': 669526, 'RR': 450479})\n"
     ]
    }
   ],
   "source": [
    "import csv\n",
    "import collections\n",
    "\n",
    "populacao = collections.Counter()\n",
    "arquivo = open('brasil.csv', encoding='utf8')\n",
    "for registro in csv.DictReader(arquivo):\n",
    "    populacao[registro['estado']] += int(registro['habitantes'])\n",
    "print(populacao)"
   ]
  },
  {
   "cell_type": "markdown",
   "metadata": {},
   "source": [
    "### O programa acima imprimirá o resultado como um contador, um dado do tipo Counter. Para transformá-lo em uma lista, há uma função pronta chamada *most_common*:"
   ]
  },
  {
   "cell_type": "code",
   "execution_count": 5,
   "metadata": {},
   "outputs": [
    {
     "name": "stdout",
     "output_type": "stream",
     "text": [
      "[('SP', 41262199), ('MG', 19597330), ('RJ', 15989929), ('BA', 14016906), ('RS', 10693929), ('PR', 10444526), ('PE', 8796448), ('CE', 8452381), ('PA', 7581051), ('MA', 6574789), ('SC', 6248436), ('GO', 6003788), ('PB', 3766528), ('ES', 3514952), ('AM', 3483985), ('RN', 3168027), ('AL', 3120494), ('PI', 3118360), ('MT', 3035122), ('DF', 2570160), ('MS', 2449024), ('SE', 2068017), ('RO', 1562409), ('TO', 1383445), ('AC', 733559), ('AP', 669526), ('RR', 450479)]\n"
     ]
    }
   ],
   "source": [
    "import csv\n",
    "import collections\n",
    "\n",
    "populacao = collections.Counter()\n",
    "arquivo = open('brasil.csv', encoding='utf8')\n",
    "for registro in csv.DictReader(arquivo):\n",
    "    populacao[registro['estado']] += int(registro['habitantes'])\n",
    "print(populacao.most_common())"
   ]
  },
  {
   "cell_type": "markdown",
   "metadata": {},
   "source": [
    "### Agora, na saída do print temos uma lista (entre colchetes []) e cada elemento dela, um par ('estado', habitantes), é uma *tupla*, um outro tipo de dados em Python que tem o comportamento parecido com o de uma lista.\n",
    "### É possível, então utilizar um outro *for* para percorrer essa sequência, considerando que cada elemento da lista é composto por dois elementos:"
   ]
  },
  {
   "cell_type": "code",
   "execution_count": 7,
   "metadata": {},
   "outputs": [
    {
     "name": "stdout",
     "output_type": "stream",
     "text": [
      "O estado SP tem 41262199 habitantes\n",
      "O estado MG tem 19597330 habitantes\n",
      "O estado RJ tem 15989929 habitantes\n",
      "O estado BA tem 14016906 habitantes\n",
      "O estado RS tem 10693929 habitantes\n",
      "O estado PR tem 10444526 habitantes\n",
      "O estado PE tem 8796448 habitantes\n",
      "O estado CE tem 8452381 habitantes\n",
      "O estado PA tem 7581051 habitantes\n",
      "O estado MA tem 6574789 habitantes\n",
      "O estado SC tem 6248436 habitantes\n",
      "O estado GO tem 6003788 habitantes\n",
      "O estado PB tem 3766528 habitantes\n",
      "O estado ES tem 3514952 habitantes\n",
      "O estado AM tem 3483985 habitantes\n",
      "O estado RN tem 3168027 habitantes\n",
      "O estado AL tem 3120494 habitantes\n",
      "O estado PI tem 3118360 habitantes\n",
      "O estado MT tem 3035122 habitantes\n",
      "O estado DF tem 2570160 habitantes\n",
      "O estado MS tem 2449024 habitantes\n",
      "O estado SE tem 2068017 habitantes\n",
      "O estado RO tem 1562409 habitantes\n",
      "O estado TO tem 1383445 habitantes\n",
      "O estado AC tem 733559 habitantes\n",
      "O estado AP tem 669526 habitantes\n",
      "O estado RR tem 450479 habitantes\n"
     ]
    }
   ],
   "source": [
    "import csv\n",
    "import collections\n",
    "\n",
    "arquivo = open('brasil.csv', encoding='utf8') # abrindo o arquivo para leitura\n",
    "populacao = collections.Counter() # criando um contador vazio\n",
    "\n",
    "# fazendo a contagem a partir do csv (análise de dados)\n",
    "for registro in csv.DictReader(arquivo):\n",
    "    populacao[registro['estado']] += int(registro['habitantes'])\n",
    "\n",
    "# exibição para o usuário da contagem realizada (visualização da análise)\n",
    "for estado, habitantes in populacao.most_common():\n",
    "    print(f'O estado {estado} tem {habitantes} habitantes.')    "
   ]
  },
  {
   "cell_type": "markdown",
   "metadata": {},
   "source": [
    "### O *for* vai percorrer a sequência *populacao.most_common* e, para cada elemento dela, vai separar estado e número de habitantes. O resultado obtido será um estado por linha.\n",
    "\n",
    "## Exercício:\n",
    "- Mostrar apenas o top 5\n",
    "    - função(parâmetro)"
   ]
  },
  {
   "cell_type": "code",
   "execution_count": null,
   "metadata": {},
   "outputs": [],
   "source": [
    "import csv\n",
    "import collections\n",
    "\n",
    "arquivo = open('brasil.csv', encoding='utf8')\n",
    "populacao = collections.Counter()\n",
    "\n",
    "for registro in csv.DictReader(arquivo):\n",
    "    populacao[registro['estado']] += int(registro['habitantes'])\n",
    "\n",
    "for estado, habitantes in populacao.most_common(5): # função recebe parâmetro que a limita a 5 resultados\n",
    "    print(f'O estado {estado} tem {habitantes} habitantes.')"
   ]
  },
  {
   "cell_type": "markdown",
   "metadata": {},
   "source": [
    "# Gerando um CSV para apresentar adequadamente um resultado extenso demais para simplesmente imprimir na tela\n",
    "## Utilizar a função do módulo csv *csv.writer*"
   ]
  },
  {
   "cell_type": "code",
   "execution_count": 10,
   "metadata": {},
   "outputs": [],
   "source": [
    "import csv\n",
    "\n",
    "arquivo = open('saida.csv', mode='w', encoding='utf8')\n",
    "escritor = csv.writer(arquivo, lineterminator='\\n')\n",
    "escritor.writerow(['linha1 coluna1', 'linha1 coluna2'])\n",
    "escritor.writerow(['linha2 coluna1', 'linha2 coluna2'])\n",
    "escritor.writerow(['linha3 coluna1', 'linha3 coluna2'])\n",
    "arquivo.close()"
   ]
  },
  {
   "cell_type": "markdown",
   "metadata": {},
   "source": [
    "### É preciso passar para a função *writer* um arquivo e podem-se passar opções. Ela vai devolver uma variável *escritor*, que vamos usar para escrever os dados no csv, linha por linha.\n",
    "- A variável arquivo é criada também com a função *open*, porém é necessário fornecer como parâmetro o nome do arquivo que neste caso ainda não existe, será criado pela função.\n",
    "    - Também é preciso passar para o Python que o modo do arquivo é *write* (w), informando que estamos escrevendo um arquivo. Caso contrário, por padrão, ele seria aberto como 'somente leitura'.\n",
    "    - Por fim, passar o parâmetro encoding, neste caso 'utf8'.\n",
    "- Outro parâmetro passado para a função *writer* é o *lineterminator*, a quebra de linha, que será a string <b>\\n</b>, para garantir que o arquivo seja aberto da mesma maneira em diferentes sistemas operacionais.\n",
    "\n",
    "### A função *writerow* escreve os registros do arquivo que será gerado, e é preciso passar para essa função uma lista (que será no arquivo final uma linha), da qual cada elemento representará uma coluna.\n",
    "- No exemplo acima temos uma tabela de 3 linhas e 2 colunas.\n",
    "\n",
    "### Por fim, é preciso fechar o arquivo com a função *close*, que salva os dados na memória permanente do computador.\n",
    "- O arquivo é aberto no início do código e fechado no final.\n",
    "\n",
    "## Juntando esse código com o programa criado anteriormente para contar os habitantes de cada estado, podemos gerar um novo arquivo CSV com os dados organizados:"
   ]
  },
  {
   "cell_type": "code",
   "execution_count": 15,
   "metadata": {},
   "outputs": [],
   "source": [
    "import csv\n",
    "import collections\n",
    "\n",
    "# fazendo a contagem a partir do csv (análise de dados)\n",
    "arquivo = open('brasil.csv', encoding='utf8')\n",
    "populacao = collections.Counter()\n",
    "for registro in csv.DictReader(arquivo):\n",
    "    populacao[registro['estado']] += int(registro['habitantes'])\n",
    "\n",
    "# criando o arquivo CSV com o resultado\n",
    "arquivo_saida = open('estados.csv', mode='w', encoding='utf8')\n",
    "escritor = csv.writer(arquivo_saida, lineterminator='\\n')\n",
    "escritor.writerow(['estado', 'habitantes']) # cabeçalho da tabela\n",
    "for estado, habitantes in populacao.most_common():\n",
    "    escritor.writerow([estado, habitantes])\n",
    "arquivo_saida.close()"
   ]
  },
  {
   "cell_type": "markdown",
   "metadata": {},
   "source": [
    "# Exercícios:\n",
    "- Contar os habitantes de cada região do Brasil e mostrar de maneira ordenada (mais habitantes primeiro)\n",
    "- Gerar CSV com uma nova coluna: densidade demográfica\n",
    "    - Dica: utilize outro Counter para somar a área\n",
    "- Consultar outras bases de dados disponíveis"
   ]
  }
 ],
 "metadata": {
  "kernelspec": {
   "display_name": "Python 3",
   "language": "python",
   "name": "python3"
  },
  "language_info": {
   "codemirror_mode": {
    "name": "ipython",
    "version": 3
   },
   "file_extension": ".py",
   "mimetype": "text/x-python",
   "name": "python",
   "nbconvert_exporter": "python",
   "pygments_lexer": "ipython3",
   "version": "3.6.3"
  }
 },
 "nbformat": 4,
 "nbformat_minor": 2
}
