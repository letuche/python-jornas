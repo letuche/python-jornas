{
 "cells": [
  {
   "cell_type": "code",
   "execution_count": null,
   "metadata": {},
   "outputs": [],
   "source": [
    "#1 extrair o texto das páginas\n",
    "#2 procurar valores numéricos\n",
    "#3 substituir por outra coisa\n",
    "#4 calcular novo valor\n",
    "#5 inserir novo valor no texto"
   ]
  },
  {
   "cell_type": "code",
   "execution_count": 11,
   "metadata": {},
   "outputs": [
    {
     "data": {
      "text/plain": [
       "True"
      ]
     },
     "execution_count": 11,
     "metadata": {},
     "output_type": "execute_result"
    }
   ],
   "source": [
    "titulo = 'Em noite de vitórias democratas, Bill de Blasio é reeleito em Nova York'\n",
    "url= 'http://www1.folha.uol.com.br/mundo/2017/11/1933720-em-noite-de-vitorias-democratas-bill-de-blasio-e-reeleito-em-nova-york.shtml'\n",
    "\n",
    "'Bill de Blasio' in titulo"
   ]
  },
  {
   "cell_type": "code",
   "execution_count": 12,
   "metadata": {},
   "outputs": [
    {
     "data": {
      "text/plain": [
       "'Em noite de vitórias democratas, Amy Poehler é reeleito em Nova York'"
      ]
     },
     "execution_count": 12,
     "metadata": {},
     "output_type": "execute_result"
    }
   ],
   "source": [
    "prefeito = 'Bill de Blasio'\n",
    "prefeita = 'Amy Poehler'\n",
    "titulo.replace(prefeito, prefeita)"
   ]
  },
  {
   "cell_type": "code",
   "execution_count": 15,
   "metadata": {},
   "outputs": [
    {
     "name": "stdout",
     "output_type": "stream",
     "text": [
      "Cole o titulo de uma manchete que mencione 'presidente' aquiO presidente é a pessoa mais importante da nação\n",
      "o Lula é a pessoa mais importante da nação\n"
     ]
    }
   ],
   "source": [
    "manchete = input(\"Cole o titulo de uma manchete que mencione 'presidente' aqui\")\n",
    "nova_manchete = manchete.lower()\n",
    "novo_presidente = 'Lula'\n",
    "print(nova_manchete.replace('presidente', novo_presidente))\n"
   ]
  }
 ],
 "metadata": {
  "kernelspec": {
   "display_name": "Python 3",
   "language": "python",
   "name": "python3"
  },
  "language_info": {
   "codemirror_mode": {
    "name": "ipython",
    "version": 3
   },
   "file_extension": ".py",
   "mimetype": "text/x-python",
   "name": "python",
   "nbconvert_exporter": "python",
   "pygments_lexer": "ipython3",
   "version": "3.6.3"
  }
 },
 "nbformat": 4,
 "nbformat_minor": 2
}
